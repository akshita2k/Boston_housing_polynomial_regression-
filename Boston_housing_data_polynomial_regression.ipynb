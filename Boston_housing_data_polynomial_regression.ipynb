{
  "nbformat": 4,
  "nbformat_minor": 0,
  "metadata": {
    "colab": {
      "name": "Boston_housing_data_polynomial_regression.ipynb",
      "provenance": [],
      "authorship_tag": "ABX9TyNzJNlLtyAUfh76Xzjh51OV",
      "include_colab_link": true
    },
    "kernelspec": {
      "name": "python3",
      "display_name": "Python 3"
    }
  },
  "cells": [
    {
      "cell_type": "markdown",
      "metadata": {
        "id": "view-in-github",
        "colab_type": "text"
      },
      "source": [
        "<a href=\"https://colab.research.google.com/github/akshita2k/Boston_housing_polynomial_regression-/blob/master/Boston_housing_data_polynomial_regression.ipynb\" target=\"_parent\"><img src=\"https://colab.research.google.com/assets/colab-badge.svg\" alt=\"Open In Colab\"/></a>"
      ]
    },
    {
      "cell_type": "code",
      "metadata": {
        "id": "20LbvAAeLdzt",
        "colab_type": "code",
        "colab": {}
      },
      "source": [
        "import numpy as np\n",
        "import pandas as pd\n",
        "import math\n",
        "import matplotlib.pyplot as plt\n",
        "from sklearn.datasets import load_boston"
      ],
      "execution_count": 0,
      "outputs": []
    },
    {
      "cell_type": "code",
      "metadata": {
        "id": "2ahY6VRELgG7",
        "colab_type": "code",
        "colab": {}
      },
      "source": [
        "boston=load_boston()"
      ],
      "execution_count": 0,
      "outputs": []
    },
    {
      "cell_type": "code",
      "metadata": {
        "id": "WcO5KRS6Lig3",
        "colab_type": "code",
        "colab": {}
      },
      "source": [
        "features=pd.DataFrame(boston.data,columns=boston.feature_names)\n",
        "target=pd.DataFrame(boston.target,columns=['TARGET'])"
      ],
      "execution_count": 0,
      "outputs": []
    },
    {
      "cell_type": "code",
      "metadata": {
        "id": "bdk6amybLlL1",
        "colab_type": "code",
        "colab": {}
      },
      "source": [
        "data=pd.concat([features,target],axis=1)"
      ],
      "execution_count": 0,
      "outputs": []
    },
    {
      "cell_type": "code",
      "metadata": {
        "id": "nGw7OClPLnkA",
        "colab_type": "code",
        "colab": {}
      },
      "source": [
        "sep=0.8*len(data)\n",
        "sep=int(sep)\n",
        "x_train=np.array(data['LSTAT'][0:sep])\n",
        "y_train=np.array(data['TARGET'][0:sep])\n",
        "x_test=np.array(data['LSTAT'][sep:])\n",
        "y_test=np.array(data['TARGET'][sep:])\n",
        "\n",
        "x_train = x_train/x_train.mean()\n",
        "y_train = y_train/y_train.mean()\n",
        "x_test = x_test/x_test.mean()\n",
        "y_test = y_test/y_test.mean()"
      ],
      "execution_count": 0,
      "outputs": []
    },
    {
      "cell_type": "code",
      "metadata": {
        "id": "DKgf_KFKLrjt",
        "colab_type": "code",
        "outputId": "e360ffbd-2ca5-47f0-b5ed-234b86ddf1cb",
        "colab": {
          "base_uri": "https://localhost:8080/",
          "height": 297
        }
      },
      "source": [
        "plt.plot(x_train,y_train,'r.')\n",
        "plt.xlabel(\"rooms\")\n",
        "plt.ylabel(\"price\")"
      ],
      "execution_count": 0,
      "outputs": [
        {
          "output_type": "execute_result",
          "data": {
            "text/plain": [
              "Text(0, 0.5, 'price')"
            ]
          },
          "metadata": {
            "tags": []
          },
          "execution_count": 6
        },
        {
          "output_type": "display_data",
          "data": {
            "image/png": "[encoded data removed]",
            "text/plain": [
              "<Figure size 432x288 with 1 Axes>"
            ]
          },
          "metadata": {
            "tags": []
          }
        }
      ]
    },
    {
      "cell_type": "code",
      "metadata": {
        "id": "ToJ2MZS1LuUC",
        "colab_type": "code",
        "colab": {}
      },
      "source": [
        "def hypothesis(a,x,b,c,d):\n",
        "    return a * x*x*x +b*x*x + c*x +d"
      ],
      "execution_count": 0,
      "outputs": []
    },
    {
      "cell_type": "code",
      "metadata": {
        "id": "eqFh3Bv8LyLa",
        "colab_type": "code",
        "colab": {}
      },
      "source": [
        "def error(a,x,b,y,c,d):\n",
        "    e=0\n",
        "    m=len(y)\n",
        "    for i in range(m):\n",
        "        e+=np.power((hypothesis(a,x[i],b,c,d)-y[i]),2)\n",
        "    return (1/(2*m)*e)"
      ],
      "execution_count": 0,
      "outputs": []
    },
    {
      "cell_type": "code",
      "metadata": {
        "id": "lj4JBxGTL1Zn",
        "colab_type": "code",
        "colab": {}
      },
      "source": [
        "def step_gradient(a,x,b,y,c,d,learning_rate):\n",
        "    grad_a=0\n",
        "    grad_b=0\n",
        "    grad_c=0\n",
        "    grad_d=0\n",
        "\n",
        "    m=len(x)\n",
        "    for i in range(m):\n",
        "        grad_a += 2/m * (hypothesis(a,x[i],b,c,d)-y[i])*(x[i]*x[i]*x[i])\n",
        "        grad_b += 2/m * (hypothesis(a,x[i],b,c,d)-y[i])*(x[i]*x[i])\n",
        "        grad_c += 2/m * (hypothesis(a,x[i],b,c,d)-y[i])*(x[i])\n",
        "        grad_d += 2/m * (hypothesis(a,x[i],b,c,d)-y[i])\n",
        "    a=a-(grad_a*learning_rate)\n",
        "    b=b-(grad_b*learning_rate)\n",
        "    c=c-(grad_c*learning_rate)\n",
        "    d=d-(grad_d*learning_rate)\n",
        "    \n",
        "    \n",
        "    return a,b,c,d"
      ],
      "execution_count": 0,
      "outputs": []
    },
    {
      "cell_type": "code",
      "metadata": {
        "id": "Gk-UL6Q1L3qW",
        "colab_type": "code",
        "colab": {}
      },
      "source": [
        "def descend(initial_a,initial_b,initial_c,initial_d,x,y,learning_rate,iterations):\n",
        "    a=initial_a\n",
        "    b=initial_b\n",
        "    c=initial_c\n",
        "    d=initial_d\n",
        "    \n",
        "    for i in range(iterations):\n",
        "        e=error(a,x,b,y,c,d)\n",
        "        a,b,c,d=step_gradient(a,x,b,y,c,d,learning_rate)\n",
        "        if i %1000==0:\n",
        "            print(f\"Error: {e},a:{a},b:{b},c:{c},d:{d}\")\n",
        "    return a,b,c,d"
      ],
      "execution_count": 0,
      "outputs": []
    },
    {
      "cell_type": "code",
      "metadata": {
        "id": "RV7dUCe3L6k2",
        "colab_type": "code",
        "colab": {}
      },
      "source": [
        "init_a=0\n",
        "init_b=0\n",
        "init_c=0\n",
        "init_d=0\n",
        "\n",
        "iters=10000\n",
        "learning_rate=0.001"
      ],
      "execution_count": 0,
      "outputs": []
    },
    {
      "cell_type": "code",
      "metadata": {
        "id": "qcaxKhMZL9oh",
        "colab_type": "code",
        "outputId": "3648ede0-fe15-4558-84dd-6d7dc430e68c",
        "colab": {
          "base_uri": "https://localhost:8080/",
          "height": 195
        }
      },
      "source": [
        "final_a,final_b,final_c,final_d=descend(init_a,init_b,init_c,init_d,x_train,y_train,learning_rate,iters)"
      ],
      "execution_count": 0,
      "outputs": [
        {
          "output_type": "stream",
          "text": [
            "Error: 0.5731901720028545,a:0.0029880561782599283,b:0.001951261502019782,c:0.0016745801813193046,d:0.0019999999999999987\n",
            "Error: 0.09884005246046619,a:-0.09057160371016025,b:0.08463661450697972,c:0.29561266274508585,d:0.6768924266639399\n",
            "Error: 0.0742814565526907,a:-0.04966199765785201,b:-0.03189592981372982,c:0.24398443596782243,d:0.8497666373288176\n",
            "Error: 0.05971593440311465,a:-0.0077171723453535795,b:-0.13343036241132933,c:0.18378196002447839,d:0.9650738293019722\n",
            "Error: 0.05051401651889066,a:0.02588670809637438,b:-0.21323748743680893,c:0.13299666873239369,d:1.055844410772086\n",
            "Error: 0.04468829287120042,a:0.05229562489242009,b:-0.27518744585690624,c:0.09071400198752341,d:1.1284639031686101\n",
            "Error: 0.04099015953127012,a:0.07295858283606665,b:-0.32293074874486466,c:0.055253687754992495,d:1.186755576894344\n",
            "Error: 0.0386328829199131,a:0.08905964759578625,b:-0.3594014228763501,c:0.025221976743684614,d:1.2336761012104527\n",
            "Error: 0.037120739652204346,a:0.10154083677987806,b:-0.3869307130291975,c:-0.000491279876401713,d:1.2715675495125534\n",
            "Error: 0.03614137187316003,a:0.11115003973192282,b:-0.40736924479734254,c:-0.022767585145209168,d:1.3022887391864848\n"
          ],
          "name": "stdout"
        }
      ]
    },
    {
      "cell_type": "code",
      "metadata": {
        "id": "4Vz1Zf0nMAD1",
        "colab_type": "code",
        "outputId": "5ec221b5-0410-484c-c4c8-4caaea2bebca",
        "colab": {
          "base_uri": "https://localhost:8080/",
          "height": 300
        }
      },
      "source": [
        "plt.plot(x_train,y_train,'r.',x_train,hypothesis(final_a,x_train,final_b,final_c,final_d),'g.')"
      ],
      "execution_count": 0,
      "outputs": [
        {
          "output_type": "execute_result",
          "data": {
            "text/plain": [
              "[<matplotlib.lines.Line2D at 0x7f36073e94a8>,\n",
              " <matplotlib.lines.Line2D at 0x7f36073e95c0>]"
            ]
          },
          "metadata": {
            "tags": []
          },
          "execution_count": 13
        },
        {
          "output_type": "display_data",
          "data": {
            "image/png": "[encoded data removed]",
            "text/plain": [
              "<Figure size 432x288 with 1 Axes>"
            ]
          },
          "metadata": {
            "tags": []
          }
        }
      ]
    },
    {
      "cell_type": "code",
      "metadata": {
        "id": "CtsnGaQcMCry",
        "colab_type": "code",
        "outputId": "b326d50c-e8b5-42cb-ba65-c3124a8ad6c7",
        "colab": {
          "base_uri": "https://localhost:8080/",
          "height": 35
        }
      },
      "source": [
        "a=0.11115003973192282\n",
        "b=-0.40736924479734254\n",
        "c=-0.022767585145209168\n",
        "d=1.3022887391864848\n",
        "\n",
        "error(a,x_train,b,y_train,c,d)"
      ],
      "execution_count": 0,
      "outputs": [
        {
          "output_type": "execute_result",
          "data": {
            "text/plain": [
              "0.03614058627541971"
            ]
          },
          "metadata": {
            "tags": []
          },
          "execution_count": 14
        }
      ]
    },
    {
      "cell_type": "code",
      "metadata": {
        "id": "e6Doh_nSMGRW",
        "colab_type": "code",
        "outputId": "9f5c15b3-0c69-4fb1-dcb1-4b98edd951b0",
        "colab": {
          "base_uri": "https://localhost:8080/",
          "height": 35
        }
      },
      "source": [
        "error(a,x_test,b,y_test,c,d)"
      ],
      "execution_count": 0,
      "outputs": [
        {
          "output_type": "execute_result",
          "data": {
            "text/plain": [
              "0.029962309459333345"
            ]
          },
          "metadata": {
            "tags": []
          },
          "execution_count": 15
        }
      ]
    }
  ]
}